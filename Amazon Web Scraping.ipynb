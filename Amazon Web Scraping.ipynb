{
 "cells": [
  {
   "cell_type": "code",
   "execution_count": 3,
   "id": "9aaaafbe",
   "metadata": {},
   "outputs": [],
   "source": [
    "#Import the libraries\n",
    "\n",
    "from bs4 import BeautifulSoup\n",
    "import requests\n",
    "import smtplib\n",
    "import time\n",
    "import datetime\n",
    "\n",
    "import csv\n",
    "import pandas as pd"
   ]
  },
  {
   "cell_type": "code",
   "execution_count": 4,
   "id": "b5536152",
   "metadata": {},
   "outputs": [
    {
     "name": "stdout",
     "output_type": "stream",
     "text": [
      "\n",
      "            Apple iPhone 11, US Version, 64GB, Black - Unlocked (Renewed)\n",
      "           \n",
      "\n",
      "\n",
      "\n",
      "\n",
      "                       $517.49\n",
      "               \n"
     ]
    }
   ],
   "source": [
    "#Connect to website\n",
    "\n",
    "URL = 'https://www.amazon.ca/Apple-iPhone-11-64GB-Unlocked/dp/B07ZPKN6YR/ref=sr_1_5?keywords=iphone&qid=1655990492&sr=8-5'\n",
    "\n",
    "headers = {\"User-Agent\": \"Mozilla/5.0 (Windows NT 10.0; Win64; x64) AppleWebKit/537.36 (KHTML, like Gecko) Chrome/102.0.0.0 Safari/537.36\", \"Accept-Encoding\":\"gzip, deflate\", \"Accept\":\"text/html,application/xhtml+xml,application/xml;q=0.9,*/*;q=0.8\", \"DNT\":\"1\",\"Connection\":\"close\", \"Upgrade-Insecure-Requests\":\"1\"}\n",
    "\n",
    "page = requests.get(URL, headers=headers)\n",
    "\n",
    "soup1 = BeautifulSoup(page.content, \"html.parser\")\n",
    "\n",
    "soup2 = BeautifulSoup(soup1.prettify(), \"html.parser\")\n",
    "\n",
    "title = soup2.find(id='productTitle').get_text()\n",
    "\n",
    "price = soup2.find(id='corePrice_feature_div').get_text()\n",
    "\n",
    "print(title)\n",
    "print(price[:50])\n"
   ]
  },
  {
   "cell_type": "code",
   "execution_count": 5,
   "id": "de36deca",
   "metadata": {},
   "outputs": [
    {
     "data": {
      "text/plain": [
       "'517.49\\n                      \\n\\n                       $517.49'"
      ]
     },
     "execution_count": 5,
     "metadata": {},
     "output_type": "execute_result"
    }
   ],
   "source": [
    "#Removing the $ at the start of the price\n",
    "\n",
    "price = price.strip()[1:]\n",
    "price"
   ]
  },
  {
   "cell_type": "code",
   "execution_count": 6,
   "id": "f4f9e6e0",
   "metadata": {},
   "outputs": [
    {
     "data": {
      "text/plain": [
       "'517.49'"
      ]
     },
     "execution_count": 6,
     "metadata": {},
     "output_type": "execute_result"
    }
   ],
   "source": [
    "#Removing everything after the price\n",
    "\n",
    "new_price = price.strip()[:6]\n",
    "new_price"
   ]
  },
  {
   "cell_type": "code",
   "execution_count": 7,
   "id": "558de5f7",
   "metadata": {},
   "outputs": [
    {
     "name": "stdout",
     "output_type": "stream",
     "text": [
      "Apple iPhone 11, US Version, 64GB, Black - Unlocked (Renewed)\n",
      "517.49\n"
     ]
    }
   ],
   "source": [
    "title = title.strip()\n",
    "new_price = new_price.strip()\n",
    "print(title)\n",
    "print(new_price)"
   ]
  },
  {
   "cell_type": "code",
   "execution_count": 8,
   "id": "45cf8ec5",
   "metadata": {},
   "outputs": [
    {
     "name": "stdout",
     "output_type": "stream",
     "text": [
      "2022-06-23\n"
     ]
    }
   ],
   "source": [
    "#Todays Date\n",
    "\n",
    "today = datetime.date.today()\n",
    "\n",
    "print(today)"
   ]
  },
  {
   "cell_type": "code",
   "execution_count": 9,
   "id": "7e36f407",
   "metadata": {},
   "outputs": [],
   "source": [
    "#Converting the data to a list and creating a CSV\n",
    "\n",
    "header = ['Title', 'Price', 'Date']\n",
    "data = [title, price, today]\n",
    "\n",
    "with open('AmazonWebScraping.csv', 'w', newline='', encoding='UTF8') as f:\n",
    "    writer = csv.writer(f)\n",
    "    writer.writerow(header)\n",
    "    writer.writerow(data)\n",
    "    "
   ]
  },
  {
   "cell_type": "code",
   "execution_count": 10,
   "id": "84382217",
   "metadata": {},
   "outputs": [
    {
     "name": "stdout",
     "output_type": "stream",
     "text": [
      "                                               Title  \\\n",
      "0  Apple iPhone 11, US Version, 64GB, Black - Unl...   \n",
      "\n",
      "                                               Price        Date  \n",
      "0  517.49\\n                      \\n\\n            ...  2022-06-23  \n"
     ]
    }
   ],
   "source": [
    "df = pd.read_csv(r'C:\\Users\\Shay\\AmazonWebScraping.csv')\n",
    "\n",
    "print(df)"
   ]
  },
  {
   "cell_type": "code",
   "execution_count": 11,
   "id": "81add7d0",
   "metadata": {},
   "outputs": [],
   "source": [
    "#Appending the data to the csv\n",
    "\n",
    "header = ['Title', 'Price', 'Date']\n",
    "data = [title, price, today]\n",
    "\n",
    "with open('AmazonWebScraping.csv', 'a+', newline='', encoding='UTF8') as f:\n",
    "    writer = csv.writer(f)\n",
    "    writer.writerow(data)\n",
    "    "
   ]
  },
  {
   "cell_type": "code",
   "execution_count": 12,
   "id": "4e9287b6",
   "metadata": {},
   "outputs": [],
   "source": [
    "def check_price():\n",
    "    URL = 'https://www.amazon.ca/Apple-iPhone-11-64GB-Unlocked/dp/B07ZPKN6YR/ref=sr_1_5?keywords=iphone&qid=1655990492&sr=8-5'\n",
    "\n",
    "    headers = {\"User-Agent\": \"Mozilla/5.0 (Windows NT 10.0; Win64; x64) AppleWebKit/537.36 (KHTML, like Gecko) Chrome/102.0.0.0 Safari/537.36\", \"Accept-Encoding\":\"gzip, deflate\", \"Accept\":\"text/html,application/xhtml+xml,application/xml;q=0.9,*/*;q=0.8\", \"DNT\":\"1\",\"Connection\":\"close\", \"Upgrade-Insecure-Requests\":\"1\"}\n",
    "\n",
    "    page = requests.get(URL, headers=headers)\n",
    "\n",
    "    soup1 = BeautifulSoup(page.content, \"html.parser\")\n",
    "\n",
    "    soup2 = BeautifulSoup(soup1.prettify(), \"html.parser\")\n",
    "\n",
    "    title = soup2.find(id='productTitle').get_text()\n",
    "\n",
    "    price = soup2.find(id='corePrice_feature_div').get_text()\n",
    "    \n",
    "    price = price.strip()[1:]\n",
    "    new_price = price.strip()[:6]\n",
    "    title = title.strip()\n",
    "    new_price = new_price.strip()\n",
    "    \n",
    "    today = datetime.date.today()\n",
    "\n",
    "    header = ['Title', 'Price', 'Date']\n",
    "    data = [title, price, today]\n",
    "    \n",
    "    with open('AmazonWebScraping.csv', 'a+', newline='', encoding='UTF8') as f:\n",
    "        writer = csv.writer(f)\n",
    "    writer.writerow(data)"
   ]
  },
  {
   "cell_type": "code",
   "execution_count": null,
   "id": "b14028c0",
   "metadata": {},
   "outputs": [],
   "source": [
    "while(True):\n",
    "    check_price()\n",
    "    time.sleep(86400)"
   ]
  },
  {
   "cell_type": "code",
   "execution_count": 13,
   "id": "4f66d19f",
   "metadata": {},
   "outputs": [
    {
     "name": "stdout",
     "output_type": "stream",
     "text": [
      "                                               Title  \\\n",
      "0  Apple iPhone 11, US Version, 64GB, Black - Unl...   \n",
      "1  Apple iPhone 11, US Version, 64GB, Black - Unl...   \n",
      "\n",
      "                                               Price        Date  \n",
      "0  517.49\\n                      \\n\\n            ...  2022-06-23  \n",
      "1  517.49\\n                      \\n\\n            ...  2022-06-23  \n"
     ]
    }
   ],
   "source": [
    "df = pd.read_csv(r'C:\\Users\\Shay\\AmazonWebScraping.csv')\n",
    "\n",
    "print(df)"
   ]
  },
  {
   "cell_type": "code",
   "execution_count": null,
   "id": "5fde180e",
   "metadata": {},
   "outputs": [],
   "source": []
  }
 ],
 "metadata": {
  "kernelspec": {
   "display_name": "Python 3 (ipykernel)",
   "language": "python",
   "name": "python3"
  },
  "language_info": {
   "codemirror_mode": {
    "name": "ipython",
    "version": 3
   },
   "file_extension": ".py",
   "mimetype": "text/x-python",
   "name": "python",
   "nbconvert_exporter": "python",
   "pygments_lexer": "ipython3",
   "version": "3.9.12"
  }
 },
 "nbformat": 4,
 "nbformat_minor": 5
}
